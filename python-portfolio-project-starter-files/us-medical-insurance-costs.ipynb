{
 "cells": [
  {
   "cell_type": "markdown",
   "metadata": {},
   "source": [
    "# U.S. Medical Insurance Costs"
   ]
  },
  {
   "cell_type": "markdown",
   "metadata": {},
   "source": [
    "### Normalize \"insurance.csv\" data\n",
    "\n",
    "First thing to do, is to read and get all the information from the \".csv\" file **(there are 1,338 total records in this dataset)**. I gather all rows information in a dictionary and append them to an empty list; since all values for every dictionary record in the list are strings, I parsed the ones I need as an *integer* or a *float* number."
   ]
  },
  {
   "cell_type": "code",
   "execution_count": 46,
   "metadata": {},
   "outputs": [],
   "source": [
    "import csv\n",
    "\n",
    "insurance_data_raw = []\n",
    "\n",
    "# Open \".csv\" file, parse it as a dictionary and append them to an empty list\n",
    "with open(\"insurance.csv\", newline = \"\") as insurance_csv:\n",
    "\treader = csv.DictReader(insurance_csv)\n",
    "\n",
    "\tfor item in reader:\n",
    "\t\tinsurance_data_raw.append(item)\n",
    "\n",
    "# Parse string values as integer or float number\n",
    "for data in insurance_data_raw:\n",
    "\tdata[\"age\"] = int(data[\"age\"])\n",
    "\tdata[\"bmi\"] = float(data[\"bmi\"])\n",
    "\tdata[\"children\"] = int(data[\"children\"])\n",
    "\tdata[\"charges\"] = float(data[\"charges\"])"
   ]
  },
  {
   "cell_type": "markdown",
   "metadata": {},
   "source": [
    "### Dataset Insights\n",
    "\n",
    "Before I start analyzing this dataset, I want to count specific keys, like:\n",
    "\n",
    "1. How many total records are in this dataset?\n",
    "2. How many females and males are?\n",
    "3. How many smoker vs. non-smoker people are?\n",
    "4. How many southwest region, southeast, northeast and northwest are?\n",
    "5. Range of children in this dataset.\n",
    "6. Average BMI.\n",
    "7. Average charges."
   ]
  },
  {
   "cell_type": "code",
   "execution_count": 2,
   "metadata": {},
   "outputs": [
    {
     "name": "stdout",
     "output_type": "stream",
     "text": [
      "In this dataset, there's a total of 662 female records, againts 676 male records. Total records in this dataset are 1338.\n"
     ]
    }
   ],
   "source": [
    "# Total records and total females vs. total males\n",
    "\n",
    "num_of_males = 0\n",
    "num_of_females = 0\n",
    "\n",
    "for data in insurance_data_raw:\n",
    "\tif data[\"sex\"] == \"female\":\n",
    "\t\tnum_of_females += 1\n",
    "\telif data[\"sex\"] == \"male\":\n",
    "\t\tnum_of_males += 1\n",
    "\n",
    "total_medical_records = num_of_females + num_of_males\n",
    "\n",
    "print(\"In this dataset, there's a total of {num_of_females} female records, againts {num_of_males} male records. Total records in this dataset are {total_medical_records}.\".format(num_of_females = num_of_females, num_of_males = num_of_males, total_medical_records = total_medical_records))"
   ]
  },
  {
   "cell_type": "code",
   "execution_count": 3,
   "metadata": {},
   "outputs": [
    {
     "name": "stdout",
     "output_type": "stream",
     "text": [
      "There's a total of 274 smoker people against 1064 non smoker people.\n"
     ]
    }
   ],
   "source": [
    "# Total of smoker and non-smoker people\n",
    "\n",
    "num_of_smokers = 0\n",
    "num_of_non_smokers = 0\n",
    "\n",
    "for data in insurance_data_raw:\n",
    "\tif data[\"smoker\"] == \"yes\":\n",
    "\t\tnum_of_smokers += 1\n",
    "\telif data[\"smoker\"] == \"no\":\n",
    "\t\tnum_of_non_smokers += 1\n",
    "\n",
    "print(\"There's a total of {num_of_smokers} smoker people against {num_of_non_smokers} non smoker people.\".format(num_of_smokers = num_of_smokers, num_of_non_smokers = num_of_non_smokers))"
   ]
  },
  {
   "cell_type": "code",
   "execution_count": 4,
   "metadata": {},
   "outputs": [
    {
     "name": "stdout",
     "output_type": "stream",
     "text": [
      "There's a total of: 325 Southwest, 364 Southeast, 324 Northeast and 325 Northwest people.\n"
     ]
    }
   ],
   "source": [
    "# Southwest, Southeast, Northeast and Northwest people\n",
    "\n",
    "num_of_southwest = 0\n",
    "num_of_southeast = 0\n",
    "num_of_northeast = 0\n",
    "num_of_northwest = 0\n",
    "\n",
    "for data in insurance_data_raw:\n",
    "    if data[\"region\"] == \"southwest\":\n",
    "        num_of_southwest += 1\n",
    "    elif data[\"region\"] == \"southeast\":\n",
    "        num_of_southeast += 1\n",
    "    elif data[\"region\"] == \"northeast\":\n",
    "        num_of_northeast += 1\n",
    "    elif data[\"region\"] == \"northwest\":\n",
    "        num_of_northwest += 1\n",
    "        \n",
    "print(\"There's a total of: {num_of_southwest} Southwest, {num_of_southeast} Southeast, {num_of_northeast} Northeast and {num_of_northwest} Northwest people.\".format(num_of_southeast = num_of_southeast, num_of_southwest = num_of_southwest, num_of_northwest = num_of_northwest, num_of_northeast = num_of_northeast))"
   ]
  },
  {
   "cell_type": "code",
   "execution_count": 5,
   "metadata": {},
   "outputs": [
    {
     "name": "stdout",
     "output_type": "stream",
     "text": [
      "There are 574 records that have 0 children.\n",
      "There are 324 records that have 1 children.\n",
      "There are 240 records that have 2 children.\n",
      "There are 157 records that have 3 children.\n",
      "There are 25 records that have 4 children.\n",
      "There are 18 records that have 5 children.\n"
     ]
    }
   ],
   "source": [
    "# Range of children\n",
    "\n",
    "children_range = []\n",
    "children_count = 0\n",
    "\n",
    "for data in insurance_data_raw:\n",
    "    if data[\"children\"] not in children_range and data[\"children\"] == children_count:\n",
    "        children_range.append(data[\"children\"])\n",
    "        children_count += 1\n",
    "        \n",
    "total_children = {children_range[i + 1]: 0 for i in range(-1, len(children_range) - 1)}\n",
    "\n",
    "for data in insurance_data_raw:\n",
    "    if data[\"children\"] == 0:\n",
    "        total_children[0] += 1\n",
    "    elif data[\"children\"] == 1:\n",
    "        total_children[1] += 1\n",
    "    elif data[\"children\"] == 2:\n",
    "        total_children[2] += 1\n",
    "    elif data[\"children\"] == 3:\n",
    "        total_children[3] += 1\n",
    "    elif data[\"children\"] == 4:\n",
    "        total_children[4] += 1\n",
    "    elif data[\"children\"] == 5:\n",
    "        total_children[5] += 1\n",
    "        \n",
    "for key, value in total_children.items():\n",
    "    print(\"There are {value} records that have {key} children.\".format(key = key, value = value))"
   ]
  },
  {
   "cell_type": "code",
   "execution_count": 19,
   "metadata": {},
   "outputs": [
    {
     "name": "stdout",
     "output_type": "stream",
     "text": [
      "The average BMI of this dataset is 30.66.\n"
     ]
    }
   ],
   "source": [
    "# Average BMI\n",
    "\n",
    "total_bmi = 0\n",
    "\n",
    "for data in insurance_data_raw:\n",
    "    total_bmi += data[\"bmi\"]\n",
    "    \n",
    "average_bmi = round((total_bmi / total_medical_records), 2)\n",
    "\n",
    "print(\"The average BMI of this dataset is {average_bmi}.\".format(average_bmi = average_bmi))"
   ]
  },
  {
   "cell_type": "code",
   "execution_count": 18,
   "metadata": {},
   "outputs": [
    {
     "name": "stdout",
     "output_type": "stream",
     "text": [
      "The average cost of this dataset is $13270.42 dollars.\n"
     ]
    }
   ],
   "source": [
    "# Average Cost\n",
    "\n",
    "total_cost = 0\n",
    "\n",
    "for data in insurance_data_raw:\n",
    "    total_cost += data[\"charges\"]\n",
    "    \n",
    "average_cost = round((total_cost / total_medical_records), 2)\n",
    "\n",
    "print(\"The average cost of this dataset is ${average_cost} dollars.\".format(average_cost = average_cost))"
   ]
  },
  {
   "cell_type": "markdown",
   "metadata": {},
   "source": [
    "### Analyzing the dataset\n",
    "\n",
    "Upon answering questions about how many records there are, how many males and females, etc. I want to answer questions like:\n",
    "\n",
    "1. How much is the average cost of females vs. males and it's difference.\n",
    "2. How much is the average cost of smokers vs. non-smokers and it's difference.\n",
    "3. How much is the average cost between regions and which one is the priciest and the cheapiest."
   ]
  },
  {
   "cell_type": "code",
   "execution_count": 24,
   "metadata": {},
   "outputs": [
    {
     "name": "stdout",
     "output_type": "stream",
     "text": [
      "The female average cost is $12569.58 dollars, vs. male average cost $13956.75. We can say, based in this dataset, that men pay in average $1387.17 dollars more than females.\n"
     ]
    }
   ],
   "source": [
    "# Female vs. Male average cost\n",
    "\n",
    "female_total_cost = 0\n",
    "male_total_cost = 0\n",
    "\n",
    "for data in insurance_data_raw:\n",
    "    if data[\"sex\"] == \"female\":\n",
    "        female_total_cost += data[\"charges\"]\n",
    "    elif data[\"sex\"] == \"male\":\n",
    "        male_total_cost += data[\"charges\"]\n",
    "        \n",
    "female_average_cost = round((female_total_cost / num_of_females), 2)\n",
    "male_average_cost = round((male_total_cost / num_of_males), 2)\n",
    "female_male_cost_diff = round((male_average_cost - female_average_cost), 2)\n",
    "\n",
    "print(\"The female average cost is ${female_average_cost} dollars, vs. male average cost ${male_average_cost}. We can say, based in this dataset, that men pay in average ${female_male_cost_diff} dollars more than females.\".format(female_average_cost = female_average_cost, male_average_cost = male_average_cost, female_male_cost_diff = female_male_cost_diff))"
   ]
  },
  {
   "cell_type": "code",
   "execution_count": 27,
   "metadata": {},
   "outputs": [
    {
     "name": "stdout",
     "output_type": "stream",
     "text": [
      "Smokers average cost is $32050.23 dollars vs. $8434.27 dollars for non-smokers. Based on this dataset, we can conclude that smokers pay $23615.96 dollars more than non-smokers\n"
     ]
    }
   ],
   "source": [
    "# Smokers vs. Non-smokers average cost\n",
    "\n",
    "smokers_total_cost = 0\n",
    "non_smokers_total_cost = 0\n",
    "\n",
    "for data in insurance_data_raw:\n",
    "    if data[\"smoker\"] == \"yes\":\n",
    "        smokers_total_cost += data[\"charges\"]\n",
    "    elif data[\"smoker\"] == \"no\":\n",
    "        non_smokers_total_cost += data[\"charges\"]\n",
    "        \n",
    "smokers_average_cost = round((smokers_total_cost / num_of_smokers), 2)\n",
    "non_smokers_average_cost = round((non_smokers_total_cost / num_of_non_smokers), 2)\n",
    "smokers_average_diff = round((smokers_average_cost - non_smokers_average_cost ), 2)\n",
    "\n",
    "print(\"Smokers average cost is ${smokers_average_cost} dollars vs. ${non_smokers_average_cost} dollars for non-smokers. Based on this dataset, we can conclude that smokers pay ${smokers_average_diff} dollars more than non-smokers\".format(smokers_average_cost = smokers_average_cost, non_smokers_average_cost = non_smokers_average_cost, smokers_average_diff = smokers_average_diff))"
   ]
  },
  {
   "cell_type": "code",
   "execution_count": 45,
   "metadata": {},
   "outputs": [
    {
     "name": "stdout",
     "output_type": "stream",
     "text": [
      "Southwest average cost: $12346.94. Southeast average cost: $14735.41. Northeast average cost: $13406.38. Northwest average cost: $12417.58.\n",
      "The priciest region has an average cost of $14735.41 dollars.\n",
      "The cheapiest region has an average cost of $12346.94 dollars\n"
     ]
    }
   ],
   "source": [
    "# Average cost between regions\n",
    "\n",
    "def region_total_charges(region, region_average_records):\n",
    "\n",
    "\tregion_total_charges = 0\n",
    "    \n",
    "\tfor data in insurance_data_raw:\n",
    "\t\tif data[\"region\"] == region:\n",
    "\t\t\tregion_total_charges += data[\"charges\"]\n",
    "\n",
    "\tregion_average_cost = round((region_total_charges / region_average_records), 2)\n",
    "\treturn region_average_cost\n",
    "\n",
    "southwest_average_charge = region_total_charges(\"southwest\", num_of_southwest)\n",
    "southeast_average_charge = region_total_charges(\"southeast\", num_of_southeast)\n",
    "northeast_average_charge = region_total_charges(\"northeast\", num_of_northeast)\n",
    "northwest_average_charge = region_total_charges(\"northwest\", num_of_northwest)\n",
    "\n",
    "priciest_region = max(southeast_average_charge, southwest_average_charge, northeast_average_charge, northwest_average_charge)\n",
    "cheapiest_region = min(southeast_average_charge, southwest_average_charge, northeast_average_charge, northwest_average_charge)\n",
    "\n",
    "print(\"Southwest average cost: ${southwest_average_charge}. Southeast average cost: ${southeast_average_charge}. Northeast average cost: ${northeast_average_charge}. Northwest average cost: ${northwest_average_charge}.\".format(southwest_average_charge = southwest_average_charge, southeast_average_charge = southeast_average_charge, northeast_average_charge = northeast_average_charge, northwest_average_charge = northwest_average_charge))\n",
    "print(\"The priciest region has an average cost of ${priciest_region} dollars.\".format(priciest_region = priciest_region))\n",
    "print(\"The cheapiest region has an average cost of ${cheapiest_region} dollars\".format(cheapiest_region = cheapiest_region))"
   ]
  }
 ],
 "metadata": {
  "kernelspec": {
   "display_name": "Python 3",
   "language": "python",
   "name": "python3"
  },
  "language_info": {
   "codemirror_mode": {
    "name": "ipython",
    "version": 3
   },
   "file_extension": ".py",
   "mimetype": "text/x-python",
   "name": "python",
   "nbconvert_exporter": "python",
   "pygments_lexer": "ipython3",
   "version": "3.12.3"
  }
 },
 "nbformat": 4,
 "nbformat_minor": 4
}
